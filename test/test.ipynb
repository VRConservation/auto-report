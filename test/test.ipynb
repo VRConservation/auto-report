{
 "cells": [
  {
   "cell_type": "code",
   "execution_count": null,
   "id": "73fcc4ea",
   "metadata": {},
   "outputs": [],
   "source": [
    "# Test the report generator\n",
    "from rpt import ReportGenerator\n",
    "\n",
    "# Create and run the report generator\n",
    "generator = ReportGenerator('budget.xlsx')\n",
    "success = generator.generate_report()\n",
    "\n",
    "if success:\n",
    "    print(\"Report generated successfully!\")\n",
    "else:\n",
    "    print(\"Report generation failed!\")"
   ]
  }
 ],
 "metadata": {
  "kernelspec": {
   "display_name": "agt",
   "language": "python",
   "name": "python3"
  },
  "language_info": {
   "codemirror_mode": {
    "name": "ipython",
    "version": 3
   },
   "file_extension": ".py",
   "mimetype": "text/x-python",
   "name": "python",
   "nbconvert_exporter": "python",
   "pygments_lexer": "ipython3",
   "version": "3.13.2"
  }
 },
 "nbformat": 4,
 "nbformat_minor": 5
}
