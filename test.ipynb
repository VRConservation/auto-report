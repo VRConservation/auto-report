{
 "cells": [
  {
   "cell_type": "code",
   "execution_count": 2,
   "id": "bf0b9d28",
   "metadata": {},
   "outputs": [],
   "source": [
    "# Test the report generator\n",
    "from rpt import ReportGenerator"
   ]
  },
  {
   "cell_type": "code",
   "execution_count": 3,
   "id": "73fcc4ea",
   "metadata": {},
   "outputs": [
    {
     "name": "stdout",
     "output_type": "stream",
     "text": [
      "📝 File exists, creating new version: project_report_2025-07-25_v3.docx\n",
      "🚀 Starting report generation...\n",
      "✅ Successfully loaded data from budget.xlsx\n",
      "   Columns: ['Task', 'Budgeted', 'Spent', 'Remaining']\n",
      "   Rows: 5\n",
      "✅ Document initialized\n",
      "Info: introduction.md not found, using default content\n",
      "✅ Introduction section added\n",
      "✅ Budget table added\n",
      "Info: key_points.md not found, using default content\n",
      "✅ Key points section added\n",
      "Info: chart_description.md not found, using default content\n",
      "✅ Budget chart added\n",
      "✅ Report saved successfully: reports\\project_report_2025-07-25_v3.docx\n",
      "🎉 Report generation completed successfully!\n",
      "📄 Output file: reports\\project_report_2025-07-25_v3.docx\n",
      "📊 File size: 152.6 KB\n",
      "Report generated successfully!\n"
     ]
    }
   ],
   "source": [
    "# Create and run the report generator\n",
    "generator = ReportGenerator('budget.xlsx')\n",
    "success = generator.generate_report()\n",
    "\n",
    "if success:\n",
    "    print(\"Report generated successfully!\")\n",
    "else:\n",
    "    print(\"Report generation failed!\")"
   ]
  }
 ],
 "metadata": {
  "kernelspec": {
   "display_name": "sph",
   "language": "python",
   "name": "python3"
  },
  "language_info": {
   "codemirror_mode": {
    "name": "ipython",
    "version": 3
   },
   "file_extension": ".py",
   "mimetype": "text/x-python",
   "name": "python",
   "nbconvert_exporter": "python",
   "pygments_lexer": "ipython3",
   "version": "3.12.4"
  }
 },
 "nbformat": 4,
 "nbformat_minor": 5
}
